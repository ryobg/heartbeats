{
 "cells": [
  {
   "cell_type": "code",
   "execution_count": null,
   "metadata": {},
   "outputs": [],
   "source": [
    "import os, pandas, numpy, systole, systole.reports, bokeh\n",
    "\n",
    "ibi = []\n",
    "for f in [f for f in os.listdir () if f[-4:].lower () == '.csv' and f != 'current.csv']:\n",
    "    df = pandas.read_csv (f, usecols = ['simple', 'regular', 'peaks'], dtype = numpy.float64).dropna ()\n",
    "    df.attrs['name'] = f[:-4]\n",
    "    ibi.append (df)\n",
    "if (len (ibi) < 1):\n",
    "    raise SystemExit (\"No CSV files found.\")\n",
    "ibi = pandas.concat (ibi, keys = [df.attrs['name'] for df in ibi])\n",
    "ibi.index.names = [\"Source\", \"Index\"]\n",
    "source_indexes = ibi.index.get_level_values (\"Source\").unique ()\n",
    "\n",
    "def report_domain (callable):\n",
    "    tds = pandas.concat ([callable (ibi['regular'][i]) for i in source_indexes], keys = source_indexes)\n",
    "    tds.index.names = [\"Source\", \"Index\"]\n",
    "    return pandas.pivot_table (tds, index = \"Source\", values = \"Values\", columns = \"Metric\")\n",
    "\n",
    "def show_plot (callable, cols = 1, sizing_mode = None, width = None, **kwargs):\n",
    "    ps = [callable (ibi['simple'][i], input_type = \"rr_ms\", backend = \"bokeh\", **kwargs) for i in source_indexes]\n",
    "    for i, p in enumerate (ps):\n",
    "        p.title.text = source_indexes[i]\n",
    "    bokeh.plotting.show (bokeh.layouts.gridplot (ps, sizing_mode = sizing_mode, width = width, ncols = cols))\n",
    "\n",
    "bokeh.io.output_notebook ()"
   ]
  },
  {
   "cell_type": "code",
   "execution_count": null,
   "metadata": {},
   "outputs": [],
   "source": [
    "ibi_artefacts = []\n",
    "for d in [systole.detection.rr_artefacts (ibi['simple'][i]) for i in source_indexes]:\n",
    "    ibi_artefacts.append (pandas.DataFrame.from_dict (\n",
    "        {k : [(d[k] == True).sum ()] for k in ['ectopic', 'short', 'long', 'missed', 'extra']}))\n",
    "pandas.concat (ibi_artefacts, keys = source_indexes)\n"
   ]
  },
  {
   "cell_type": "code",
   "execution_count": null,
   "metadata": {},
   "outputs": [],
   "source": [
    "report_domain (systole.hrv.time_domain)"
   ]
  },
  {
   "cell_type": "code",
   "execution_count": null,
   "metadata": {},
   "outputs": [],
   "source": [
    "show_plot (systole.plots.plot_rr, sizing_mode = \"scale_width\", show_artefacts = False, slider = False, figsize = 200)"
   ]
  },
  {
   "cell_type": "code",
   "execution_count": null,
   "metadata": {},
   "outputs": [],
   "source": [
    "report_domain (systole.hrv.frequency_domain)"
   ]
  },
  {
   "cell_type": "code",
   "execution_count": null,
   "metadata": {},
   "outputs": [],
   "source": [
    "show_plot (systole.plots.plot_frequency, cols = 4, width = 400, figsize = 200)"
   ]
  },
  {
   "cell_type": "code",
   "execution_count": null,
   "metadata": {},
   "outputs": [],
   "source": [
    "report_domain (systole.hrv.nonlinear_domain)"
   ]
  },
  {
   "cell_type": "code",
   "execution_count": null,
   "metadata": {},
   "outputs": [],
   "source": [
    "show_plot (systole.plots.plot_poincare, cols = 4, width = 400, figsize = 400)"
   ]
  },
  {
   "cell_type": "code",
   "execution_count": null,
   "metadata": {},
   "outputs": [],
   "source": [
    "show_plot (systole.plots.plot_ectopic , cols = 4, figsize = 400)\n",
    "show_plot (systole.plots.plot_shortlong , cols = 4, figsize = 400)"
   ]
  }
 ],
 "metadata": {
  "kernelspec": {
   "display_name": "base",
   "language": "python",
   "name": "python3"
  },
  "language_info": {
   "codemirror_mode": {
    "name": "ipython",
    "version": 3
   },
   "file_extension": ".py",
   "mimetype": "text/x-python",
   "name": "python",
   "nbconvert_exporter": "python",
   "pygments_lexer": "ipython3",
   "version": "3.10.9"
  },
  "orig_nbformat": 4
 },
 "nbformat": 4,
 "nbformat_minor": 2
}
